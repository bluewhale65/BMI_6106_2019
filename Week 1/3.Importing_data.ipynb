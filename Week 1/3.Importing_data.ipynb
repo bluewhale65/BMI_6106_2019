{
 "cells": [
  {
   "cell_type": "markdown",
   "metadata": {},
   "source": [
    "# Importing Data in R"
   ]
  },
  {
   "cell_type": "markdown",
   "metadata": {},
   "source": [
    "### Data can be directly added to inside the environment or can be imported as tables (txt or csv formats, and others)\n",
    "---\n",
    "\n",
    "1. See your working directory\n",
    "1. Set up your working directory with the function setwd()"
   ]
  },
  {
   "cell_type": "code",
   "execution_count": 1,
   "metadata": {},
   "outputs": [
    {
     "data": {
      "text/html": [
       "'/Users/bombus/Documents/jupyter/Week1'"
      ],
      "text/latex": [
       "'/Users/bombus/Documents/jupyter/Week1'"
      ],
      "text/markdown": [
       "'/Users/bombus/Documents/jupyter/Week1'"
      ],
      "text/plain": [
       "[1] \"/Users/bombus/Documents/jupyter/Week1\""
      ]
     },
     "metadata": {},
     "output_type": "display_data"
    }
   ],
   "source": [
    "getwd()"
   ]
  },
  {
   "cell_type": "markdown",
   "metadata": {},
   "source": [
    "setwd(\"/path/to/the/directory\")"
   ]
  },
  {
   "cell_type": "markdown",
   "metadata": {},
   "source": [
    "&nbsp; &nbsp; 3. list the files in your current directory."
   ]
  },
  {
   "cell_type": "code",
   "execution_count": 2,
   "metadata": {},
   "outputs": [
    {
     "data": {
      "text/html": [
       "<ol class=list-inline>\n",
       "\t<li>'1.Introduction to R.ipynb'</li>\n",
       "\t<li>'2.Working with R.ipynb'</li>\n",
       "\t<li>'3.Importing_data.ipynb'</li>\n",
       "\t<li>'4.Types of Data.ipynb'</li>\n",
       "\t<li>'5. Working with dataframes.ipynb'</li>\n",
       "\t<li>'6. Plotting.ipynb'</li>\n",
       "\t<li>'BirdMalaria.csv'</li>\n",
       "\t<li>'HumanHemoglobinElevation.csv'</li>\n",
       "</ol>\n"
      ],
      "text/latex": [
       "\\begin{enumerate*}\n",
       "\\item '1.Introduction to R.ipynb'\n",
       "\\item '2.Working with R.ipynb'\n",
       "\\item '3.Importing\\_data.ipynb'\n",
       "\\item '4.Types of Data.ipynb'\n",
       "\\item '5. Working with dataframes.ipynb'\n",
       "\\item '6. Plotting.ipynb'\n",
       "\\item 'BirdMalaria.csv'\n",
       "\\item 'HumanHemoglobinElevation.csv'\n",
       "\\end{enumerate*}\n"
      ],
      "text/markdown": [
       "1. '1.Introduction to R.ipynb'\n",
       "2. '2.Working with R.ipynb'\n",
       "3. '3.Importing_data.ipynb'\n",
       "4. '4.Types of Data.ipynb'\n",
       "5. '5. Working with dataframes.ipynb'\n",
       "6. '6. Plotting.ipynb'\n",
       "7. 'BirdMalaria.csv'\n",
       "8. 'HumanHemoglobinElevation.csv'\n",
       "\n",
       "\n"
      ],
      "text/plain": [
       "[1] \"1.Introduction to R.ipynb\"        \"2.Working with R.ipynb\"          \n",
       "[3] \"3.Importing_data.ipynb\"           \"4.Types of Data.ipynb\"           \n",
       "[5] \"5. Working with dataframes.ipynb\" \"6. Plotting.ipynb\"               \n",
       "[7] \"BirdMalaria.csv\"                  \"HumanHemoglobinElevation.csv\"    "
      ]
     },
     "metadata": {},
     "output_type": "display_data"
    }
   ],
   "source": [
    "list.files()"
   ]
  },
  {
   "cell_type": "markdown",
   "metadata": {},
   "source": [
    "&nbsp; &nbsp; 4. read.table() or read.csv() allows you to import data."
   ]
  },
  {
   "cell_type": "code",
   "execution_count": 4,
   "metadata": {},
   "outputs": [
    {
     "data": {
      "text/html": [
       "<table>\n",
       "<thead><tr><th scope=col>bird</th><th scope=col>treatment</th><th scope=col>response</th></tr></thead>\n",
       "<tbody>\n",
       "\t<tr><td> 1         </td><td>Control    </td><td>Malaria    </td></tr>\n",
       "\t<tr><td> 2         </td><td>Control    </td><td>Malaria    </td></tr>\n",
       "\t<tr><td> 3         </td><td>Control    </td><td>Malaria    </td></tr>\n",
       "\t<tr><td> 4         </td><td>Control    </td><td>Malaria    </td></tr>\n",
       "\t<tr><td> 5         </td><td>Control    </td><td>Malaria    </td></tr>\n",
       "\t<tr><td> 6         </td><td>Control    </td><td>Malaria    </td></tr>\n",
       "\t<tr><td> 7         </td><td>Control    </td><td>Malaria    </td></tr>\n",
       "\t<tr><td> 8         </td><td>Egg removal</td><td>Malaria    </td></tr>\n",
       "\t<tr><td> 9         </td><td>Egg removal</td><td>Malaria    </td></tr>\n",
       "\t<tr><td>10         </td><td>Egg removal</td><td>Malaria    </td></tr>\n",
       "\t<tr><td>11         </td><td>Egg removal</td><td>Malaria    </td></tr>\n",
       "\t<tr><td>12         </td><td>Egg removal</td><td>Malaria    </td></tr>\n",
       "\t<tr><td>13         </td><td>Egg removal</td><td>Malaria    </td></tr>\n",
       "\t<tr><td>14         </td><td>Egg removal</td><td>Malaria    </td></tr>\n",
       "\t<tr><td>15         </td><td>Egg removal</td><td>Malaria    </td></tr>\n",
       "\t<tr><td>16         </td><td>Egg removal</td><td>Malaria    </td></tr>\n",
       "\t<tr><td>17         </td><td>Egg removal</td><td>Malaria    </td></tr>\n",
       "\t<tr><td>18         </td><td>Egg removal</td><td>Malaria    </td></tr>\n",
       "\t<tr><td>19         </td><td>Egg removal</td><td>Malaria    </td></tr>\n",
       "\t<tr><td>20         </td><td>Egg removal</td><td>Malaria    </td></tr>\n",
       "\t<tr><td>21         </td><td>Egg removal</td><td>Malaria    </td></tr>\n",
       "\t<tr><td>22         </td><td>Egg removal</td><td>Malaria    </td></tr>\n",
       "\t<tr><td>23         </td><td>Control    </td><td>No Malaria </td></tr>\n",
       "\t<tr><td>24         </td><td>Control    </td><td>No Malaria </td></tr>\n",
       "\t<tr><td>25         </td><td>Control    </td><td>No Malaria </td></tr>\n",
       "\t<tr><td>26         </td><td>Control    </td><td>No Malaria </td></tr>\n",
       "\t<tr><td>27         </td><td>Control    </td><td>No Malaria </td></tr>\n",
       "\t<tr><td>28         </td><td>Control    </td><td>No Malaria </td></tr>\n",
       "\t<tr><td>29         </td><td>Control    </td><td>No Malaria </td></tr>\n",
       "\t<tr><td>30         </td><td>Control    </td><td>No Malaria </td></tr>\n",
       "\t<tr><td>⋮</td><td>⋮</td><td>⋮</td></tr>\n",
       "\t<tr><td>36         </td><td>Control    </td><td>No Malaria </td></tr>\n",
       "\t<tr><td>37         </td><td>Control    </td><td>No Malaria </td></tr>\n",
       "\t<tr><td>38         </td><td>Control    </td><td>No Malaria </td></tr>\n",
       "\t<tr><td>39         </td><td>Control    </td><td>No Malaria </td></tr>\n",
       "\t<tr><td>40         </td><td>Control    </td><td>No Malaria </td></tr>\n",
       "\t<tr><td>41         </td><td>Control    </td><td>No Malaria </td></tr>\n",
       "\t<tr><td>42         </td><td>Control    </td><td>No Malaria </td></tr>\n",
       "\t<tr><td>43         </td><td>Control    </td><td>No Malaria </td></tr>\n",
       "\t<tr><td>44         </td><td>Control    </td><td>No Malaria </td></tr>\n",
       "\t<tr><td>45         </td><td>Control    </td><td>No Malaria </td></tr>\n",
       "\t<tr><td>46         </td><td>Control    </td><td>No Malaria </td></tr>\n",
       "\t<tr><td>47         </td><td>Control    </td><td>No Malaria </td></tr>\n",
       "\t<tr><td>48         </td><td>Control    </td><td>No Malaria </td></tr>\n",
       "\t<tr><td>49         </td><td>Control    </td><td>No Malaria </td></tr>\n",
       "\t<tr><td>50         </td><td>Control    </td><td>No Malaria </td></tr>\n",
       "\t<tr><td>51         </td><td>Egg removal</td><td>No Malaria </td></tr>\n",
       "\t<tr><td>52         </td><td>Egg removal</td><td>No Malaria </td></tr>\n",
       "\t<tr><td>53         </td><td>Egg removal</td><td>No Malaria </td></tr>\n",
       "\t<tr><td>54         </td><td>Egg removal</td><td>No Malaria </td></tr>\n",
       "\t<tr><td>55         </td><td>Egg removal</td><td>No Malaria </td></tr>\n",
       "\t<tr><td>56         </td><td>Egg removal</td><td>No Malaria </td></tr>\n",
       "\t<tr><td>57         </td><td>Egg removal</td><td>No Malaria </td></tr>\n",
       "\t<tr><td>58         </td><td>Egg removal</td><td>No Malaria </td></tr>\n",
       "\t<tr><td>59         </td><td>Egg removal</td><td>No Malaria </td></tr>\n",
       "\t<tr><td>60         </td><td>Egg removal</td><td>No Malaria </td></tr>\n",
       "\t<tr><td>61         </td><td>Egg removal</td><td>No Malaria </td></tr>\n",
       "\t<tr><td>62         </td><td>Egg removal</td><td>No Malaria </td></tr>\n",
       "\t<tr><td>63         </td><td>Egg removal</td><td>No Malaria </td></tr>\n",
       "\t<tr><td>64         </td><td>Egg removal</td><td>No Malaria </td></tr>\n",
       "\t<tr><td>65         </td><td>Egg removal</td><td>No Malaria </td></tr>\n",
       "</tbody>\n",
       "</table>\n"
      ],
      "text/latex": [
       "\\begin{tabular}{r|lll}\n",
       " bird & treatment & response\\\\\n",
       "\\hline\n",
       "\t  1          & Control     & Malaria    \\\\\n",
       "\t  2          & Control     & Malaria    \\\\\n",
       "\t  3          & Control     & Malaria    \\\\\n",
       "\t  4          & Control     & Malaria    \\\\\n",
       "\t  5          & Control     & Malaria    \\\\\n",
       "\t  6          & Control     & Malaria    \\\\\n",
       "\t  7          & Control     & Malaria    \\\\\n",
       "\t  8          & Egg removal & Malaria    \\\\\n",
       "\t  9          & Egg removal & Malaria    \\\\\n",
       "\t 10          & Egg removal & Malaria    \\\\\n",
       "\t 11          & Egg removal & Malaria    \\\\\n",
       "\t 12          & Egg removal & Malaria    \\\\\n",
       "\t 13          & Egg removal & Malaria    \\\\\n",
       "\t 14          & Egg removal & Malaria    \\\\\n",
       "\t 15          & Egg removal & Malaria    \\\\\n",
       "\t 16          & Egg removal & Malaria    \\\\\n",
       "\t 17          & Egg removal & Malaria    \\\\\n",
       "\t 18          & Egg removal & Malaria    \\\\\n",
       "\t 19          & Egg removal & Malaria    \\\\\n",
       "\t 20          & Egg removal & Malaria    \\\\\n",
       "\t 21          & Egg removal & Malaria    \\\\\n",
       "\t 22          & Egg removal & Malaria    \\\\\n",
       "\t 23          & Control     & No Malaria \\\\\n",
       "\t 24          & Control     & No Malaria \\\\\n",
       "\t 25          & Control     & No Malaria \\\\\n",
       "\t 26          & Control     & No Malaria \\\\\n",
       "\t 27          & Control     & No Malaria \\\\\n",
       "\t 28          & Control     & No Malaria \\\\\n",
       "\t 29          & Control     & No Malaria \\\\\n",
       "\t 30          & Control     & No Malaria \\\\\n",
       "\t ⋮ & ⋮ & ⋮\\\\\n",
       "\t 36          & Control     & No Malaria \\\\\n",
       "\t 37          & Control     & No Malaria \\\\\n",
       "\t 38          & Control     & No Malaria \\\\\n",
       "\t 39          & Control     & No Malaria \\\\\n",
       "\t 40          & Control     & No Malaria \\\\\n",
       "\t 41          & Control     & No Malaria \\\\\n",
       "\t 42          & Control     & No Malaria \\\\\n",
       "\t 43          & Control     & No Malaria \\\\\n",
       "\t 44          & Control     & No Malaria \\\\\n",
       "\t 45          & Control     & No Malaria \\\\\n",
       "\t 46          & Control     & No Malaria \\\\\n",
       "\t 47          & Control     & No Malaria \\\\\n",
       "\t 48          & Control     & No Malaria \\\\\n",
       "\t 49          & Control     & No Malaria \\\\\n",
       "\t 50          & Control     & No Malaria \\\\\n",
       "\t 51          & Egg removal & No Malaria \\\\\n",
       "\t 52          & Egg removal & No Malaria \\\\\n",
       "\t 53          & Egg removal & No Malaria \\\\\n",
       "\t 54          & Egg removal & No Malaria \\\\\n",
       "\t 55          & Egg removal & No Malaria \\\\\n",
       "\t 56          & Egg removal & No Malaria \\\\\n",
       "\t 57          & Egg removal & No Malaria \\\\\n",
       "\t 58          & Egg removal & No Malaria \\\\\n",
       "\t 59          & Egg removal & No Malaria \\\\\n",
       "\t 60          & Egg removal & No Malaria \\\\\n",
       "\t 61          & Egg removal & No Malaria \\\\\n",
       "\t 62          & Egg removal & No Malaria \\\\\n",
       "\t 63          & Egg removal & No Malaria \\\\\n",
       "\t 64          & Egg removal & No Malaria \\\\\n",
       "\t 65          & Egg removal & No Malaria \\\\\n",
       "\\end{tabular}\n"
      ],
      "text/markdown": [
       "\n",
       "bird | treatment | response | \n",
       "|---|---|---|---|---|---|---|---|---|---|---|---|---|---|---|---|---|---|---|---|---|---|---|---|---|---|---|---|---|---|---|---|---|---|---|---|---|---|---|---|---|---|---|---|---|---|---|---|---|---|---|---|---|---|---|---|---|---|---|---|---|\n",
       "|  1          | Control     | Malaria     | \n",
       "|  2          | Control     | Malaria     | \n",
       "|  3          | Control     | Malaria     | \n",
       "|  4          | Control     | Malaria     | \n",
       "|  5          | Control     | Malaria     | \n",
       "|  6          | Control     | Malaria     | \n",
       "|  7          | Control     | Malaria     | \n",
       "|  8          | Egg removal | Malaria     | \n",
       "|  9          | Egg removal | Malaria     | \n",
       "| 10          | Egg removal | Malaria     | \n",
       "| 11          | Egg removal | Malaria     | \n",
       "| 12          | Egg removal | Malaria     | \n",
       "| 13          | Egg removal | Malaria     | \n",
       "| 14          | Egg removal | Malaria     | \n",
       "| 15          | Egg removal | Malaria     | \n",
       "| 16          | Egg removal | Malaria     | \n",
       "| 17          | Egg removal | Malaria     | \n",
       "| 18          | Egg removal | Malaria     | \n",
       "| 19          | Egg removal | Malaria     | \n",
       "| 20          | Egg removal | Malaria     | \n",
       "| 21          | Egg removal | Malaria     | \n",
       "| 22          | Egg removal | Malaria     | \n",
       "| 23          | Control     | No Malaria  | \n",
       "| 24          | Control     | No Malaria  | \n",
       "| 25          | Control     | No Malaria  | \n",
       "| 26          | Control     | No Malaria  | \n",
       "| 27          | Control     | No Malaria  | \n",
       "| 28          | Control     | No Malaria  | \n",
       "| 29          | Control     | No Malaria  | \n",
       "| 30          | Control     | No Malaria  | \n",
       "| ⋮ | ⋮ | ⋮ | \n",
       "| 36          | Control     | No Malaria  | \n",
       "| 37          | Control     | No Malaria  | \n",
       "| 38          | Control     | No Malaria  | \n",
       "| 39          | Control     | No Malaria  | \n",
       "| 40          | Control     | No Malaria  | \n",
       "| 41          | Control     | No Malaria  | \n",
       "| 42          | Control     | No Malaria  | \n",
       "| 43          | Control     | No Malaria  | \n",
       "| 44          | Control     | No Malaria  | \n",
       "| 45          | Control     | No Malaria  | \n",
       "| 46          | Control     | No Malaria  | \n",
       "| 47          | Control     | No Malaria  | \n",
       "| 48          | Control     | No Malaria  | \n",
       "| 49          | Control     | No Malaria  | \n",
       "| 50          | Control     | No Malaria  | \n",
       "| 51          | Egg removal | No Malaria  | \n",
       "| 52          | Egg removal | No Malaria  | \n",
       "| 53          | Egg removal | No Malaria  | \n",
       "| 54          | Egg removal | No Malaria  | \n",
       "| 55          | Egg removal | No Malaria  | \n",
       "| 56          | Egg removal | No Malaria  | \n",
       "| 57          | Egg removal | No Malaria  | \n",
       "| 58          | Egg removal | No Malaria  | \n",
       "| 59          | Egg removal | No Malaria  | \n",
       "| 60          | Egg removal | No Malaria  | \n",
       "| 61          | Egg removal | No Malaria  | \n",
       "| 62          | Egg removal | No Malaria  | \n",
       "| 63          | Egg removal | No Malaria  | \n",
       "| 64          | Egg removal | No Malaria  | \n",
       "| 65          | Egg removal | No Malaria  | \n",
       "\n",
       "\n"
      ],
      "text/plain": [
       "   bird treatment   response  \n",
       "1   1   Control     Malaria   \n",
       "2   2   Control     Malaria   \n",
       "3   3   Control     Malaria   \n",
       "4   4   Control     Malaria   \n",
       "5   5   Control     Malaria   \n",
       "6   6   Control     Malaria   \n",
       "7   7   Control     Malaria   \n",
       "8   8   Egg removal Malaria   \n",
       "9   9   Egg removal Malaria   \n",
       "10 10   Egg removal Malaria   \n",
       "11 11   Egg removal Malaria   \n",
       "12 12   Egg removal Malaria   \n",
       "13 13   Egg removal Malaria   \n",
       "14 14   Egg removal Malaria   \n",
       "15 15   Egg removal Malaria   \n",
       "16 16   Egg removal Malaria   \n",
       "17 17   Egg removal Malaria   \n",
       "18 18   Egg removal Malaria   \n",
       "19 19   Egg removal Malaria   \n",
       "20 20   Egg removal Malaria   \n",
       "21 21   Egg removal Malaria   \n",
       "22 22   Egg removal Malaria   \n",
       "23 23   Control     No Malaria\n",
       "24 24   Control     No Malaria\n",
       "25 25   Control     No Malaria\n",
       "26 26   Control     No Malaria\n",
       "27 27   Control     No Malaria\n",
       "28 28   Control     No Malaria\n",
       "29 29   Control     No Malaria\n",
       "30 30   Control     No Malaria\n",
       "⋮  ⋮    ⋮           ⋮         \n",
       "36 36   Control     No Malaria\n",
       "37 37   Control     No Malaria\n",
       "38 38   Control     No Malaria\n",
       "39 39   Control     No Malaria\n",
       "40 40   Control     No Malaria\n",
       "41 41   Control     No Malaria\n",
       "42 42   Control     No Malaria\n",
       "43 43   Control     No Malaria\n",
       "44 44   Control     No Malaria\n",
       "45 45   Control     No Malaria\n",
       "46 46   Control     No Malaria\n",
       "47 47   Control     No Malaria\n",
       "48 48   Control     No Malaria\n",
       "49 49   Control     No Malaria\n",
       "50 50   Control     No Malaria\n",
       "51 51   Egg removal No Malaria\n",
       "52 52   Egg removal No Malaria\n",
       "53 53   Egg removal No Malaria\n",
       "54 54   Egg removal No Malaria\n",
       "55 55   Egg removal No Malaria\n",
       "56 56   Egg removal No Malaria\n",
       "57 57   Egg removal No Malaria\n",
       "58 58   Egg removal No Malaria\n",
       "59 59   Egg removal No Malaria\n",
       "60 60   Egg removal No Malaria\n",
       "61 61   Egg removal No Malaria\n",
       "62 62   Egg removal No Malaria\n",
       "63 63   Egg removal No Malaria\n",
       "64 64   Egg removal No Malaria\n",
       "65 65   Egg removal No Malaria"
      ]
     },
     "metadata": {},
     "output_type": "display_data"
    }
   ],
   "source": [
    "malaria_bird = read.csv(file = \"BirdMalaria.csv\",header=TRUE, sep=\",\")\n",
    "\n",
    "malaria_bird"
   ]
  },
  {
   "cell_type": "code",
   "execution_count": 5,
   "metadata": {},
   "outputs": [
    {
     "name": "stdout",
     "output_type": "stream",
     "text": [
      "'data.frame':\t65 obs. of  3 variables:\n",
      " $ bird     : int  1 2 3 4 5 6 7 8 9 10 ...\n",
      " $ treatment: Factor w/ 2 levels \"Control\",\"Egg removal\": 1 1 1 1 1 1 1 2 2 2 ...\n",
      " $ response : Factor w/ 2 levels \"Malaria\",\"No Malaria\": 1 1 1 1 1 1 1 1 1 1 ...\n"
     ]
    }
   ],
   "source": [
    "str(malaria_bird) ##type of variables in every columns"
   ]
  },
  {
   "cell_type": "code",
   "execution_count": 6,
   "metadata": {},
   "outputs": [
    {
     "data": {
      "image/png": "[encoded data removed]",
      "text/plain": [
       "plot without title"
      ]
     },
     "metadata": {},
     "output_type": "display_data"
    }
   ],
   "source": [
    "plot(malaria_bird$treatment, malaria_bird$bird)"
   ]
  },
  {
   "cell_type": "code",
   "execution_count": 7,
   "metadata": {},
   "outputs": [
    {
     "data": {
      "image/png": "[encoded data removed]",
      "text/plain": [
       "plot without title"
      ]
     },
     "metadata": {},
     "output_type": "display_data"
    }
   ],
   "source": [
    "plot(malaria_bird$response, malaria_bird$bird)"
   ]
  },
  {
   "cell_type": "markdown",
   "metadata": {},
   "source": [
    "# Exercise 1\n",
    "\n",
    "## Import the file HumanHemoglobinElevation.csv as elev\n",
    " \n",
    "* plot the relationship between elevation and levels of hemoglobin\n",
    "* what can you say about this plot"
   ]
  },
  {
   "cell_type": "code",
   "execution_count": 15,
   "metadata": {},
   "outputs": [],
   "source": [
    "hem_elev_human = read.csv(file = \"HumanHemoglobinElevation.csv\", header = TRUE)"
   ]
  },
  {
   "cell_type": "code",
   "execution_count": 16,
   "metadata": {},
   "outputs": [
    {
     "data": {
      "text/html": [
       "<table>\n",
       "<thead><tr><th scope=col>id</th><th scope=col>hemoglobin</th><th scope=col>population</th></tr></thead>\n",
       "<tbody>\n",
       "\t<tr><td>US.Sea.level1 </td><td>10.40         </td><td>USA           </td></tr>\n",
       "\t<tr><td>US.Sea.level2 </td><td>11.20         </td><td>USA           </td></tr>\n",
       "\t<tr><td>US.Sea.level3 </td><td>11.70         </td><td>USA           </td></tr>\n",
       "\t<tr><td>US.Sea.level4 </td><td>11.80         </td><td>USA           </td></tr>\n",
       "\t<tr><td>US.Sea.level5 </td><td>11.90         </td><td>USA           </td></tr>\n",
       "\t<tr><td>US.Sea.level6 </td><td>12.05         </td><td>USA           </td></tr>\n",
       "\t<tr><td>US.Sea.level7 </td><td>12.10         </td><td>USA           </td></tr>\n",
       "\t<tr><td>US.Sea.level8 </td><td>12.15         </td><td>USA           </td></tr>\n",
       "\t<tr><td>US.Sea.level9 </td><td>12.20         </td><td>USA           </td></tr>\n",
       "\t<tr><td>US.Sea.level10</td><td>12.35         </td><td>USA           </td></tr>\n",
       "\t<tr><td>US.Sea.level11</td><td>12.40         </td><td>USA           </td></tr>\n",
       "\t<tr><td>US.Sea.level12</td><td>12.50         </td><td>USA           </td></tr>\n",
       "\t<tr><td>US.Sea.level13</td><td>12.55         </td><td>USA           </td></tr>\n",
       "\t<tr><td>US.Sea.level14</td><td>12.60         </td><td>USA           </td></tr>\n",
       "\t<tr><td>US.Sea.level15</td><td>12.60         </td><td>USA           </td></tr>\n",
       "\t<tr><td>US.Sea.level16</td><td>12.60         </td><td>USA           </td></tr>\n",
       "\t<tr><td>US.Sea.level17</td><td>12.80         </td><td>USA           </td></tr>\n",
       "\t<tr><td>US.Sea.level18</td><td>12.95         </td><td>USA           </td></tr>\n",
       "\t<tr><td>US.Sea.level19</td><td>12.95         </td><td>USA           </td></tr>\n",
       "\t<tr><td>US.Sea.level20</td><td>13.00         </td><td>USA           </td></tr>\n",
       "\t<tr><td>US.Sea.level21</td><td>13.00         </td><td>USA           </td></tr>\n",
       "\t<tr><td>US.Sea.level22</td><td>13.00         </td><td>USA           </td></tr>\n",
       "\t<tr><td>US.Sea.level23</td><td>13.00         </td><td>USA           </td></tr>\n",
       "\t<tr><td>US.Sea.level24</td><td>13.05         </td><td>USA           </td></tr>\n",
       "\t<tr><td>US.Sea.level25</td><td>13.10         </td><td>USA           </td></tr>\n",
       "\t<tr><td>US.Sea.level26</td><td>13.15         </td><td>USA           </td></tr>\n",
       "\t<tr><td>US.Sea.level27</td><td>13.15         </td><td>USA           </td></tr>\n",
       "\t<tr><td>US.Sea.level28</td><td>13.15         </td><td>USA           </td></tr>\n",
       "\t<tr><td>US.Sea.level29</td><td>13.20         </td><td>USA           </td></tr>\n",
       "\t<tr><td>US.Sea.level30</td><td>13.20         </td><td>USA           </td></tr>\n",
       "\t<tr><td>⋮</td><td>⋮</td><td>⋮</td></tr>\n",
       "\t<tr><td>Tibetan.male30</td><td>15.53         </td><td>Tibet         </td></tr>\n",
       "\t<tr><td>Tibetan.male31</td><td>15.64         </td><td>Tibet         </td></tr>\n",
       "\t<tr><td>Tibetan.male32</td><td>15.64         </td><td>Tibet         </td></tr>\n",
       "\t<tr><td>Tibetan.male33</td><td>15.87         </td><td>Tibet         </td></tr>\n",
       "\t<tr><td>Tibetan.male34</td><td>15.87         </td><td>Tibet         </td></tr>\n",
       "\t<tr><td>Tibetan.male35</td><td>16.10         </td><td>Tibet         </td></tr>\n",
       "\t<tr><td>Tibetan.male36</td><td>16.10         </td><td>Tibet         </td></tr>\n",
       "\t<tr><td>Tibetan.male37</td><td>16.21         </td><td>Tibet         </td></tr>\n",
       "\t<tr><td>Tibetan.male38</td><td>16.21         </td><td>Tibet         </td></tr>\n",
       "\t<tr><td>Tibetan.male39</td><td>16.21         </td><td>Tibet         </td></tr>\n",
       "\t<tr><td>Tibetan.male40</td><td>16.21         </td><td>Tibet         </td></tr>\n",
       "\t<tr><td>Tibetan.male41</td><td>16.21         </td><td>Tibet         </td></tr>\n",
       "\t<tr><td>Tibetan.male42</td><td>16.21         </td><td>Tibet         </td></tr>\n",
       "\t<tr><td>Tibetan.male43</td><td>16.21         </td><td>Tibet         </td></tr>\n",
       "\t<tr><td>Tibetan.male44</td><td>16.32         </td><td>Tibet         </td></tr>\n",
       "\t<tr><td>Tibetan.male45</td><td>16.44         </td><td>Tibet         </td></tr>\n",
       "\t<tr><td>Tibetan.male46</td><td>16.44         </td><td>Tibet         </td></tr>\n",
       "\t<tr><td>Tibetan.male47</td><td>16.67         </td><td>Tibet         </td></tr>\n",
       "\t<tr><td>Tibetan.male48</td><td>17.01         </td><td>Tibet         </td></tr>\n",
       "\t<tr><td>Tibetan.male49</td><td>17.12         </td><td>Tibet         </td></tr>\n",
       "\t<tr><td>Tibetan.male50</td><td>17.12         </td><td>Tibet         </td></tr>\n",
       "\t<tr><td>Tibetan.male51</td><td>17.12         </td><td>Tibet         </td></tr>\n",
       "\t<tr><td>Tibetan.male52</td><td>17.12         </td><td>Tibet         </td></tr>\n",
       "\t<tr><td>Tibetan.male53</td><td>17.12         </td><td>Tibet         </td></tr>\n",
       "\t<tr><td>Tibetan.male54</td><td>17.12         </td><td>Tibet         </td></tr>\n",
       "\t<tr><td>Tibetan.male55</td><td>17.69         </td><td>Tibet         </td></tr>\n",
       "\t<tr><td>Tibetan.male56</td><td>18.25         </td><td>Tibet         </td></tr>\n",
       "\t<tr><td>Tibetan.male57</td><td>19.39         </td><td>Tibet         </td></tr>\n",
       "\t<tr><td>Tibetan.male58</td><td>19.73         </td><td>Tibet         </td></tr>\n",
       "\t<tr><td>Tibetan.male59</td><td>19.96         </td><td>Tibet         </td></tr>\n",
       "</tbody>\n",
       "</table>\n"
      ],
      "text/latex": [
       "\\begin{tabular}{r|lll}\n",
       " id & hemoglobin & population\\\\\n",
       "\\hline\n",
       "\t US.Sea.level1  & 10.40          & USA           \\\\\n",
       "\t US.Sea.level2  & 11.20          & USA           \\\\\n",
       "\t US.Sea.level3  & 11.70          & USA           \\\\\n",
       "\t US.Sea.level4  & 11.80          & USA           \\\\\n",
       "\t US.Sea.level5  & 11.90          & USA           \\\\\n",
       "\t US.Sea.level6  & 12.05          & USA           \\\\\n",
       "\t US.Sea.level7  & 12.10          & USA           \\\\\n",
       "\t US.Sea.level8  & 12.15          & USA           \\\\\n",
       "\t US.Sea.level9  & 12.20          & USA           \\\\\n",
       "\t US.Sea.level10 & 12.35          & USA           \\\\\n",
       "\t US.Sea.level11 & 12.40          & USA           \\\\\n",
       "\t US.Sea.level12 & 12.50          & USA           \\\\\n",
       "\t US.Sea.level13 & 12.55          & USA           \\\\\n",
       "\t US.Sea.level14 & 12.60          & USA           \\\\\n",
       "\t US.Sea.level15 & 12.60          & USA           \\\\\n",
       "\t US.Sea.level16 & 12.60          & USA           \\\\\n",
       "\t US.Sea.level17 & 12.80          & USA           \\\\\n",
       "\t US.Sea.level18 & 12.95          & USA           \\\\\n",
       "\t US.Sea.level19 & 12.95          & USA           \\\\\n",
       "\t US.Sea.level20 & 13.00          & USA           \\\\\n",
       "\t US.Sea.level21 & 13.00          & USA           \\\\\n",
       "\t US.Sea.level22 & 13.00          & USA           \\\\\n",
       "\t US.Sea.level23 & 13.00          & USA           \\\\\n",
       "\t US.Sea.level24 & 13.05          & USA           \\\\\n",
       "\t US.Sea.level25 & 13.10          & USA           \\\\\n",
       "\t US.Sea.level26 & 13.15          & USA           \\\\\n",
       "\t US.Sea.level27 & 13.15          & USA           \\\\\n",
       "\t US.Sea.level28 & 13.15          & USA           \\\\\n",
       "\t US.Sea.level29 & 13.20          & USA           \\\\\n",
       "\t US.Sea.level30 & 13.20          & USA           \\\\\n",
       "\t ⋮ & ⋮ & ⋮\\\\\n",
       "\t Tibetan.male30 & 15.53          & Tibet         \\\\\n",
       "\t Tibetan.male31 & 15.64          & Tibet         \\\\\n",
       "\t Tibetan.male32 & 15.64          & Tibet         \\\\\n",
       "\t Tibetan.male33 & 15.87          & Tibet         \\\\\n",
       "\t Tibetan.male34 & 15.87          & Tibet         \\\\\n",
       "\t Tibetan.male35 & 16.10          & Tibet         \\\\\n",
       "\t Tibetan.male36 & 16.10          & Tibet         \\\\\n",
       "\t Tibetan.male37 & 16.21          & Tibet         \\\\\n",
       "\t Tibetan.male38 & 16.21          & Tibet         \\\\\n",
       "\t Tibetan.male39 & 16.21          & Tibet         \\\\\n",
       "\t Tibetan.male40 & 16.21          & Tibet         \\\\\n",
       "\t Tibetan.male41 & 16.21          & Tibet         \\\\\n",
       "\t Tibetan.male42 & 16.21          & Tibet         \\\\\n",
       "\t Tibetan.male43 & 16.21          & Tibet         \\\\\n",
       "\t Tibetan.male44 & 16.32          & Tibet         \\\\\n",
       "\t Tibetan.male45 & 16.44          & Tibet         \\\\\n",
       "\t Tibetan.male46 & 16.44          & Tibet         \\\\\n",
       "\t Tibetan.male47 & 16.67          & Tibet         \\\\\n",
       "\t Tibetan.male48 & 17.01          & Tibet         \\\\\n",
       "\t Tibetan.male49 & 17.12          & Tibet         \\\\\n",
       "\t Tibetan.male50 & 17.12          & Tibet         \\\\\n",
       "\t Tibetan.male51 & 17.12          & Tibet         \\\\\n",
       "\t Tibetan.male52 & 17.12          & Tibet         \\\\\n",
       "\t Tibetan.male53 & 17.12          & Tibet         \\\\\n",
       "\t Tibetan.male54 & 17.12          & Tibet         \\\\\n",
       "\t Tibetan.male55 & 17.69          & Tibet         \\\\\n",
       "\t Tibetan.male56 & 18.25          & Tibet         \\\\\n",
       "\t Tibetan.male57 & 19.39          & Tibet         \\\\\n",
       "\t Tibetan.male58 & 19.73          & Tibet         \\\\\n",
       "\t Tibetan.male59 & 19.96          & Tibet         \\\\\n",
       "\\end{tabular}\n"
      ],
      "text/markdown": [
       "\n",
       "id | hemoglobin | population | \n",
       "|---|---|---|---|---|---|---|---|---|---|---|---|---|---|---|---|---|---|---|---|---|---|---|---|---|---|---|---|---|---|---|---|---|---|---|---|---|---|---|---|---|---|---|---|---|---|---|---|---|---|---|---|---|---|---|---|---|---|---|---|---|\n",
       "| US.Sea.level1  | 10.40          | USA            | \n",
       "| US.Sea.level2  | 11.20          | USA            | \n",
       "| US.Sea.level3  | 11.70          | USA            | \n",
       "| US.Sea.level4  | 11.80          | USA            | \n",
       "| US.Sea.level5  | 11.90          | USA            | \n",
       "| US.Sea.level6  | 12.05          | USA            | \n",
       "| US.Sea.level7  | 12.10          | USA            | \n",
       "| US.Sea.level8  | 12.15          | USA            | \n",
       "| US.Sea.level9  | 12.20          | USA            | \n",
       "| US.Sea.level10 | 12.35          | USA            | \n",
       "| US.Sea.level11 | 12.40          | USA            | \n",
       "| US.Sea.level12 | 12.50          | USA            | \n",
       "| US.Sea.level13 | 12.55          | USA            | \n",
       "| US.Sea.level14 | 12.60          | USA            | \n",
       "| US.Sea.level15 | 12.60          | USA            | \n",
       "| US.Sea.level16 | 12.60          | USA            | \n",
       "| US.Sea.level17 | 12.80          | USA            | \n",
       "| US.Sea.level18 | 12.95          | USA            | \n",
       "| US.Sea.level19 | 12.95          | USA            | \n",
       "| US.Sea.level20 | 13.00          | USA            | \n",
       "| US.Sea.level21 | 13.00          | USA            | \n",
       "| US.Sea.level22 | 13.00          | USA            | \n",
       "| US.Sea.level23 | 13.00          | USA            | \n",
       "| US.Sea.level24 | 13.05          | USA            | \n",
       "| US.Sea.level25 | 13.10          | USA            | \n",
       "| US.Sea.level26 | 13.15          | USA            | \n",
       "| US.Sea.level27 | 13.15          | USA            | \n",
       "| US.Sea.level28 | 13.15          | USA            | \n",
       "| US.Sea.level29 | 13.20          | USA            | \n",
       "| US.Sea.level30 | 13.20          | USA            | \n",
       "| ⋮ | ⋮ | ⋮ | \n",
       "| Tibetan.male30 | 15.53          | Tibet          | \n",
       "| Tibetan.male31 | 15.64          | Tibet          | \n",
       "| Tibetan.male32 | 15.64          | Tibet          | \n",
       "| Tibetan.male33 | 15.87          | Tibet          | \n",
       "| Tibetan.male34 | 15.87          | Tibet          | \n",
       "| Tibetan.male35 | 16.10          | Tibet          | \n",
       "| Tibetan.male36 | 16.10          | Tibet          | \n",
       "| Tibetan.male37 | 16.21          | Tibet          | \n",
       "| Tibetan.male38 | 16.21          | Tibet          | \n",
       "| Tibetan.male39 | 16.21          | Tibet          | \n",
       "| Tibetan.male40 | 16.21          | Tibet          | \n",
       "| Tibetan.male41 | 16.21          | Tibet          | \n",
       "| Tibetan.male42 | 16.21          | Tibet          | \n",
       "| Tibetan.male43 | 16.21          | Tibet          | \n",
       "| Tibetan.male44 | 16.32          | Tibet          | \n",
       "| Tibetan.male45 | 16.44          | Tibet          | \n",
       "| Tibetan.male46 | 16.44          | Tibet          | \n",
       "| Tibetan.male47 | 16.67          | Tibet          | \n",
       "| Tibetan.male48 | 17.01          | Tibet          | \n",
       "| Tibetan.male49 | 17.12          | Tibet          | \n",
       "| Tibetan.male50 | 17.12          | Tibet          | \n",
       "| Tibetan.male51 | 17.12          | Tibet          | \n",
       "| Tibetan.male52 | 17.12          | Tibet          | \n",
       "| Tibetan.male53 | 17.12          | Tibet          | \n",
       "| Tibetan.male54 | 17.12          | Tibet          | \n",
       "| Tibetan.male55 | 17.69          | Tibet          | \n",
       "| Tibetan.male56 | 18.25          | Tibet          | \n",
       "| Tibetan.male57 | 19.39          | Tibet          | \n",
       "| Tibetan.male58 | 19.73          | Tibet          | \n",
       "| Tibetan.male59 | 19.96          | Tibet          | \n",
       "\n",
       "\n"
      ],
      "text/plain": [
       "     id             hemoglobin population\n",
       "1    US.Sea.level1  10.40      USA       \n",
       "2    US.Sea.level2  11.20      USA       \n",
       "3    US.Sea.level3  11.70      USA       \n",
       "4    US.Sea.level4  11.80      USA       \n",
       "5    US.Sea.level5  11.90      USA       \n",
       "6    US.Sea.level6  12.05      USA       \n",
       "7    US.Sea.level7  12.10      USA       \n",
       "8    US.Sea.level8  12.15      USA       \n",
       "9    US.Sea.level9  12.20      USA       \n",
       "10   US.Sea.level10 12.35      USA       \n",
       "11   US.Sea.level11 12.40      USA       \n",
       "12   US.Sea.level12 12.50      USA       \n",
       "13   US.Sea.level13 12.55      USA       \n",
       "14   US.Sea.level14 12.60      USA       \n",
       "15   US.Sea.level15 12.60      USA       \n",
       "16   US.Sea.level16 12.60      USA       \n",
       "17   US.Sea.level17 12.80      USA       \n",
       "18   US.Sea.level18 12.95      USA       \n",
       "19   US.Sea.level19 12.95      USA       \n",
       "20   US.Sea.level20 13.00      USA       \n",
       "21   US.Sea.level21 13.00      USA       \n",
       "22   US.Sea.level22 13.00      USA       \n",
       "23   US.Sea.level23 13.00      USA       \n",
       "24   US.Sea.level24 13.05      USA       \n",
       "25   US.Sea.level25 13.10      USA       \n",
       "26   US.Sea.level26 13.15      USA       \n",
       "27   US.Sea.level27 13.15      USA       \n",
       "28   US.Sea.level28 13.15      USA       \n",
       "29   US.Sea.level29 13.20      USA       \n",
       "30   US.Sea.level30 13.20      USA       \n",
       "⋮    ⋮              ⋮          ⋮         \n",
       "1933 Tibetan.male30 15.53      Tibet     \n",
       "1934 Tibetan.male31 15.64      Tibet     \n",
       "1935 Tibetan.male32 15.64      Tibet     \n",
       "1936 Tibetan.male33 15.87      Tibet     \n",
       "1937 Tibetan.male34 15.87      Tibet     \n",
       "1938 Tibetan.male35 16.10      Tibet     \n",
       "1939 Tibetan.male36 16.10      Tibet     \n",
       "1940 Tibetan.male37 16.21      Tibet     \n",
       "1941 Tibetan.male38 16.21      Tibet     \n",
       "1942 Tibetan.male39 16.21      Tibet     \n",
       "1943 Tibetan.male40 16.21      Tibet     \n",
       "1944 Tibetan.male41 16.21      Tibet     \n",
       "1945 Tibetan.male42 16.21      Tibet     \n",
       "1946 Tibetan.male43 16.21      Tibet     \n",
       "1947 Tibetan.male44 16.32      Tibet     \n",
       "1948 Tibetan.male45 16.44      Tibet     \n",
       "1949 Tibetan.male46 16.44      Tibet     \n",
       "1950 Tibetan.male47 16.67      Tibet     \n",
       "1951 Tibetan.male48 17.01      Tibet     \n",
       "1952 Tibetan.male49 17.12      Tibet     \n",
       "1953 Tibetan.male50 17.12      Tibet     \n",
       "1954 Tibetan.male51 17.12      Tibet     \n",
       "1955 Tibetan.male52 17.12      Tibet     \n",
       "1956 Tibetan.male53 17.12      Tibet     \n",
       "1957 Tibetan.male54 17.12      Tibet     \n",
       "1958 Tibetan.male55 17.69      Tibet     \n",
       "1959 Tibetan.male56 18.25      Tibet     \n",
       "1960 Tibetan.male57 19.39      Tibet     \n",
       "1961 Tibetan.male58 19.73      Tibet     \n",
       "1962 Tibetan.male59 19.96      Tibet     "
      ]
     },
     "metadata": {},
     "output_type": "display_data"
    }
   ],
   "source": [
    "hem_elev_human"
   ]
  },
  {
   "cell_type": "code",
   "execution_count": 17,
   "metadata": {},
   "outputs": [
    {
     "name": "stdout",
     "output_type": "stream",
     "text": [
      "'data.frame':\t1962 obs. of  3 variables:\n",
      " $ id        : Factor w/ 1962 levels \"Andean.male1\",..: 259 1075 1186 1297 1408 1519 1630 1741 1852 260 ...\n",
      " $ hemoglobin: num  10.4 11.2 11.7 11.8 11.9 ...\n",
      " $ population: Factor w/ 4 levels \"Andes\",\"Ethiopia\",..: 4 4 4 4 4 4 4 4 4 4 ...\n"
     ]
    }
   ],
   "source": [
    "str(hem_elev_human)"
   ]
  },
  {
   "cell_type": "code",
   "execution_count": 23,
   "metadata": {},
   "outputs": [
    {
     "name": "stderr",
     "output_type": "stream",
     "text": [
      "The following objects are masked from hem_elev_human (pos = 3):\n",
      "\n",
      "    hemoglobin, id, population\n",
      "\n"
     ]
    }
   ],
   "source": [
    "attach(hem_elev_human)"
   ]
  },
  {
   "cell_type": "code",
   "execution_count": 24,
   "metadata": {},
   "outputs": [
    {
     "data": {
      "image/png": "[encoded data removed]",
      "text/plain": [
       "plot without title"
      ]
     },
     "metadata": {},
     "output_type": "display_data"
    }
   ],
   "source": [
    "plot(population, hemoglobin)"
   ]
  },
  {
   "cell_type": "code",
   "execution_count": 25,
   "metadata": {
    "collapsed": true
   },
   "outputs": [],
   "source": [
    "detach(hem_elev_human)"
   ]
  },
  {
   "cell_type": "code",
   "execution_count": 27,
   "metadata": {},
   "outputs": [
    {
     "data": {
      "text/html": [
       "<ol class=list-inline>\n",
       "\t<li>2</li>\n",
       "\t<li>3</li>\n",
       "</ol>\n"
      ],
      "text/latex": [
       "\\begin{enumerate*}\n",
       "\\item 2\n",
       "\\item 3\n",
       "\\end{enumerate*}\n"
      ],
      "text/markdown": [
       "1. 2\n",
       "2. 3\n",
       "\n",
       "\n"
      ],
      "text/plain": [
       "[1] 2 3"
      ]
     },
     "metadata": {},
     "output_type": "display_data"
    }
   ],
   "source": [
    "x  <- c(2,3)\n",
    "x"
   ]
  },
  {
   "cell_type": "code",
   "execution_count": 28,
   "metadata": {},
   "outputs": [
    {
     "data": {
      "text/html": [
       "<ol class=list-inline>\n",
       "\t<li>2</li>\n",
       "\t<li>3</li>\n",
       "</ol>\n"
      ],
      "text/latex": [
       "\\begin{enumerate*}\n",
       "\\item 2\n",
       "\\item 3\n",
       "\\end{enumerate*}\n"
      ],
      "text/markdown": [
       "1. 2\n",
       "2. 3\n",
       "\n",
       "\n"
      ],
      "text/plain": [
       "[1] 2 3"
      ]
     },
     "metadata": {},
     "output_type": "display_data"
    }
   ],
   "source": [
    "y = c(2,3)\n",
    "y"
   ]
  },
  {
   "cell_type": "code",
   "execution_count": null,
   "metadata": {
    "collapsed": true
   },
   "outputs": [],
   "source": []
  }
 ],
 "metadata": {
  "kernelspec": {
   "display_name": "R",
   "language": "R",
   "name": "ir"
  },
  "language_info": {
   "codemirror_mode": "r",
   "file_extension": ".r",
   "mimetype": "text/x-r-source",
   "name": "R",
   "pygments_lexer": "r",
   "version": "3.3.2"
  }
 },
 "nbformat": 4,
 "nbformat_minor": 2
}
